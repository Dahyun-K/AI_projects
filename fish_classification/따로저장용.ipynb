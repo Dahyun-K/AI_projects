{
 "cells": [
  {
   "cell_type": "markdown",
   "metadata": {},
   "source": [
    "# matplotlib 한글설정 (맥, 우분투)"
   ]
  },
  {
   "cell_type": "code",
   "execution_count": null,
   "metadata": {},
   "outputs": [],
   "source": [
    "### matplotlib 한글설정(Mac) ###\n",
    "# from matplotlib import rc\n",
    "# %matplotlib inline\n",
    "# rc('font', family='AppleGothic')\n",
    "# plt.rcParams['axes.unicode_minus'] = False\n",
    "#-----------------------------#\n",
    "\n",
    "### matplotlib 한글설정(Ubuntu) ###\n",
    "# import matplotlib.font_manager\n",
    "# font_list = matplotlib.font_manager.findSystemFonts(fontpaths=None, fontext='ttf')\n",
    "# [matplotlib.font_manager.FontProperties(fname=font).get_name() for font in font_list if 'Nanum' in font]\n",
    "\n",
    "# plt.rc('font', family='NanumGothicCoding')\n",
    "\n",
    "# import matplotlib as mpl\n",
    "# mpl.rcParams['axes.unicode_minus'] = False\n",
    "#-----------------------------#"
   ]
  },
  {
   "cell_type": "markdown",
   "metadata": {},
   "source": [
    "# 폴더 내 모든파일 삭제"
   ]
  },
  {
   "cell_type": "code",
   "execution_count": null,
   "metadata": {},
   "outputs": [],
   "source": [
    "import os\n",
    "\n",
    "want_to_delete_folder = '{삭제할 폴더 경로}'\n",
    "\n",
    "def DeleteAllFiles(filePath):\n",
    "    if os.path.exists(filePath):\n",
    "        for file in os.scandir(filePath):\n",
    "            os.remove(file.path)\n",
    "        return 'Remove All File'\n",
    "    else:\n",
    "        return 'Directory Not Found'\n",
    "\n",
    "print(DeleteAllFiles(want_to_delete_folder))"
   ]
  },
  {
   "cell_type": "code",
   "execution_count": null,
   "metadata": {},
   "outputs": [],
   "source": []
  },
  {
   "cell_type": "code",
   "execution_count": null,
   "metadata": {},
   "outputs": [],
   "source": []
  },
  {
   "cell_type": "code",
   "execution_count": null,
   "metadata": {},
   "outputs": [],
   "source": []
  },
  {
   "cell_type": "code",
   "execution_count": null,
   "metadata": {},
   "outputs": [],
   "source": []
  }
 ],
 "metadata": {
  "language_info": {
   "name": "python"
  }
 },
 "nbformat": 4,
 "nbformat_minor": 2
}
